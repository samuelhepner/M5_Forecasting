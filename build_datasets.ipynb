{
 "cells": [
  {
   "cell_type": "markdown",
   "metadata": {},
   "source": [
    "# Import Libraries"
   ]
  },
  {
   "cell_type": "code",
   "execution_count": 4,
   "metadata": {},
   "outputs": [],
   "source": [
    "import numpy as np # linear algebra\n",
    "import pandas as pd # data processing, CSV file I/O (e.g. pd.read_csv)\n",
    "from sklearn.preprocessing import LabelEncoder \n",
    "import os\n",
    "os.chdir('C:/Users/Samue/Documents/Kaggle_Comps/M5_forecasting/data')"
   ]
  },
  {
   "cell_type": "markdown",
   "metadata": {},
   "source": [
    "# Load Data"
   ]
  },
  {
   "cell_type": "code",
   "execution_count": 5,
   "metadata": {},
   "outputs": [],
   "source": [
    "calendar = pd.read_csv('calendar.csv')\n",
    "sales_train_validation = pd.read_csv('sales_train_validation.csv')\n",
    "sample_submission = pd.read_csv('sample_submission.csv')\n",
    "sell_prices = pd.read_csv('sell_prices.csv')"
   ]
  },
  {
   "cell_type": "markdown",
   "metadata": {},
   "source": [
    "# Functions"
   ]
  },
  {
   "cell_type": "code",
   "execution_count": 6,
   "metadata": {},
   "outputs": [],
   "source": [
    "def melt_data(data):\n",
    "    \"\"\" Turns d_1, d_2, ..., d_1913 columns into rows for each item, store unique combination.\n",
    "        \n",
    "    \"\"\"\n",
    "    \n",
    "    data_melt = data.melt(id_vars=[\"id\", \"item_id\", \"dept_id\", \"cat_id\", \"store_id\", \"state_id\"], \n",
    "                          var_name=\"Date\", \n",
    "                          value_name=\"Target\")\n",
    "    \n",
    "    return data_melt"
   ]
  },
  {
   "cell_type": "code",
   "execution_count": 7,
   "metadata": {},
   "outputs": [],
   "source": [
    "def join_calendar(data, calendar):\n",
    "    \"\"\" Joins calendar DataFrame to the \n",
    "    \"\"\"\n",
    "    calendar = calendar.rename(columns = {\"d\": \"Date\"})\n",
    "    \n",
    "    # T0-DO: Add additional columns. Removed for Kaggle Notebooks memory reasons.\n",
    "#     columns = ['Date', 'wday', 'month'] \n",
    "#     data_calendar = data.merge(calendar.loc[:, columns], how = 'left', on = 'Date')\n",
    "    data_calendar = data.merge(calendar, how = 'left', on = 'Date')\n",
    "    \n",
    "    return data_calendar"
   ]
  },
  {
   "cell_type": "code",
   "execution_count": 8,
   "metadata": {},
   "outputs": [],
   "source": [
    "def encode_categorical_variables(data, categorical_columns):\n",
    "    \"\"\"\n",
    "    \"\"\"\n",
    "    for col in categorical_columns: \n",
    "        le = LabelEncoder()\n",
    "        data.loc[:, col] = le.fit_transform(data.loc[:, col])\n",
    "    \n",
    "    return data"
   ]
  },
  {
   "cell_type": "code",
   "execution_count": 9,
   "metadata": {},
   "outputs": [],
   "source": [
    "def join_sell_prices(data, sell_prices):\n",
    "    \"\"\" Joins sell_prices DataFrame to the data.\n",
    "    \"\"\"    \n",
    "    data_sell_prices = data.merge(sell_prices, how = 'left', on = ['store_id', 'item_id', 'wm_yr_wk'])\n",
    "    \n",
    "    \n",
    "    return data_sell_prices"
   ]
  },
  {
   "cell_type": "markdown",
   "metadata": {},
   "source": [
    "# Run Functions"
   ]
  },
  {
   "cell_type": "code",
   "execution_count": 10,
   "metadata": {},
   "outputs": [
    {
     "name": "stdout",
     "output_type": "stream",
     "text": [
      "Create melted DataFrame.\n",
      "\n",
      "Unit Test: \n",
      "58327370\n",
      "58327370\n",
      "Create DataFrame with calendar columns.\n",
      "\n",
      "Create DataFrame with sell price columns.\n",
      "\n",
      "Create DataFrame with encoded variables.\n",
      "\n"
     ]
    }
   ],
   "source": [
    "print(\"Create melted DataFrame.\\n\")\n",
    "sales_train_validation_melted = melt_data(sales_train_validation)\n",
    "\n",
    "# Unit Test for melt function\n",
    "print(\"Unit Test: \")\n",
    "print(sales_train_validation_melted.shape[0])\n",
    "print(sales_train_validation.shape[0] * sales_train_validation.iloc[1:, 6:].shape[1])\n",
    "sales_train_validation_melted.shape[0] == sales_train_validation.shape[0] * sales_train_validation.iloc[1:, 6:].shape[1]\n",
    "del sales_train_validation\n",
    "\n",
    "print(\"Create DataFrame with calendar columns.\\n\")\n",
    "sales_train_validation_calendar = join_calendar(sales_train_validation_melted, calendar)\n",
    "del sales_train_validation_melted\n",
    "\n",
    "print(\"Create DataFrame with sell price columns.\\n\")\n",
    "sales_train_validation_prices = join_sell_prices(sales_train_validation_calendar, sell_prices)\n",
    "del sales_train_validation_calendar\n",
    "\n",
    "print(\"Create DataFrame with encoded variables.\\n\")\n",
    "categorical_columns = ['item_id', 'dept_id', 'cat_id', 'store_id', 'state_id']\n",
    "sales_train_validation_encoded = encode_categorical_variables(sales_train_validation_prices, categorical_columns)"
   ]
  },
  {
   "cell_type": "markdown",
   "metadata": {},
   "source": [
    "# Write Data to CSV"
   ]
  },
  {
   "cell_type": "code",
   "execution_count": 11,
   "metadata": {},
   "outputs": [],
   "source": [
    "sales_train_validation_encoded.to_csv('sales_train_validation_encoded.csv', index = False)"
   ]
  },
  {
   "cell_type": "code",
   "execution_count": 12,
   "metadata": {},
   "outputs": [
    {
     "data": {
      "text/html": [
       "<div>\n",
       "<style scoped>\n",
       "    .dataframe tbody tr th:only-of-type {\n",
       "        vertical-align: middle;\n",
       "    }\n",
       "\n",
       "    .dataframe tbody tr th {\n",
       "        vertical-align: top;\n",
       "    }\n",
       "\n",
       "    .dataframe thead th {\n",
       "        text-align: right;\n",
       "    }\n",
       "</style>\n",
       "<table border=\"1\" class=\"dataframe\">\n",
       "  <thead>\n",
       "    <tr style=\"text-align: right;\">\n",
       "      <th></th>\n",
       "      <th>id</th>\n",
       "      <th>item_id</th>\n",
       "      <th>dept_id</th>\n",
       "      <th>cat_id</th>\n",
       "      <th>store_id</th>\n",
       "      <th>state_id</th>\n",
       "      <th>Date</th>\n",
       "      <th>Target</th>\n",
       "      <th>date</th>\n",
       "      <th>wm_yr_wk</th>\n",
       "      <th>...</th>\n",
       "      <th>month</th>\n",
       "      <th>year</th>\n",
       "      <th>event_name_1</th>\n",
       "      <th>event_type_1</th>\n",
       "      <th>event_name_2</th>\n",
       "      <th>event_type_2</th>\n",
       "      <th>snap_CA</th>\n",
       "      <th>snap_TX</th>\n",
       "      <th>snap_WI</th>\n",
       "      <th>sell_price</th>\n",
       "    </tr>\n",
       "  </thead>\n",
       "  <tbody>\n",
       "    <tr>\n",
       "      <th>0</th>\n",
       "      <td>HOBBIES_1_001_CA_1_validation</td>\n",
       "      <td>1437</td>\n",
       "      <td>3</td>\n",
       "      <td>1</td>\n",
       "      <td>0</td>\n",
       "      <td>0</td>\n",
       "      <td>d_1</td>\n",
       "      <td>0</td>\n",
       "      <td>2011-01-29</td>\n",
       "      <td>11101</td>\n",
       "      <td>...</td>\n",
       "      <td>1</td>\n",
       "      <td>2011</td>\n",
       "      <td>NaN</td>\n",
       "      <td>NaN</td>\n",
       "      <td>NaN</td>\n",
       "      <td>NaN</td>\n",
       "      <td>0</td>\n",
       "      <td>0</td>\n",
       "      <td>0</td>\n",
       "      <td>NaN</td>\n",
       "    </tr>\n",
       "    <tr>\n",
       "      <th>1</th>\n",
       "      <td>HOBBIES_1_002_CA_1_validation</td>\n",
       "      <td>1438</td>\n",
       "      <td>3</td>\n",
       "      <td>1</td>\n",
       "      <td>0</td>\n",
       "      <td>0</td>\n",
       "      <td>d_1</td>\n",
       "      <td>0</td>\n",
       "      <td>2011-01-29</td>\n",
       "      <td>11101</td>\n",
       "      <td>...</td>\n",
       "      <td>1</td>\n",
       "      <td>2011</td>\n",
       "      <td>NaN</td>\n",
       "      <td>NaN</td>\n",
       "      <td>NaN</td>\n",
       "      <td>NaN</td>\n",
       "      <td>0</td>\n",
       "      <td>0</td>\n",
       "      <td>0</td>\n",
       "      <td>NaN</td>\n",
       "    </tr>\n",
       "    <tr>\n",
       "      <th>2</th>\n",
       "      <td>HOBBIES_1_003_CA_1_validation</td>\n",
       "      <td>1439</td>\n",
       "      <td>3</td>\n",
       "      <td>1</td>\n",
       "      <td>0</td>\n",
       "      <td>0</td>\n",
       "      <td>d_1</td>\n",
       "      <td>0</td>\n",
       "      <td>2011-01-29</td>\n",
       "      <td>11101</td>\n",
       "      <td>...</td>\n",
       "      <td>1</td>\n",
       "      <td>2011</td>\n",
       "      <td>NaN</td>\n",
       "      <td>NaN</td>\n",
       "      <td>NaN</td>\n",
       "      <td>NaN</td>\n",
       "      <td>0</td>\n",
       "      <td>0</td>\n",
       "      <td>0</td>\n",
       "      <td>NaN</td>\n",
       "    </tr>\n",
       "    <tr>\n",
       "      <th>3</th>\n",
       "      <td>HOBBIES_1_004_CA_1_validation</td>\n",
       "      <td>1440</td>\n",
       "      <td>3</td>\n",
       "      <td>1</td>\n",
       "      <td>0</td>\n",
       "      <td>0</td>\n",
       "      <td>d_1</td>\n",
       "      <td>0</td>\n",
       "      <td>2011-01-29</td>\n",
       "      <td>11101</td>\n",
       "      <td>...</td>\n",
       "      <td>1</td>\n",
       "      <td>2011</td>\n",
       "      <td>NaN</td>\n",
       "      <td>NaN</td>\n",
       "      <td>NaN</td>\n",
       "      <td>NaN</td>\n",
       "      <td>0</td>\n",
       "      <td>0</td>\n",
       "      <td>0</td>\n",
       "      <td>NaN</td>\n",
       "    </tr>\n",
       "    <tr>\n",
       "      <th>4</th>\n",
       "      <td>HOBBIES_1_005_CA_1_validation</td>\n",
       "      <td>1441</td>\n",
       "      <td>3</td>\n",
       "      <td>1</td>\n",
       "      <td>0</td>\n",
       "      <td>0</td>\n",
       "      <td>d_1</td>\n",
       "      <td>0</td>\n",
       "      <td>2011-01-29</td>\n",
       "      <td>11101</td>\n",
       "      <td>...</td>\n",
       "      <td>1</td>\n",
       "      <td>2011</td>\n",
       "      <td>NaN</td>\n",
       "      <td>NaN</td>\n",
       "      <td>NaN</td>\n",
       "      <td>NaN</td>\n",
       "      <td>0</td>\n",
       "      <td>0</td>\n",
       "      <td>0</td>\n",
       "      <td>NaN</td>\n",
       "    </tr>\n",
       "  </tbody>\n",
       "</table>\n",
       "<p>5 rows × 22 columns</p>\n",
       "</div>"
      ],
      "text/plain": [
       "                              id  item_id  dept_id  cat_id  store_id  \\\n",
       "0  HOBBIES_1_001_CA_1_validation     1437        3       1         0   \n",
       "1  HOBBIES_1_002_CA_1_validation     1438        3       1         0   \n",
       "2  HOBBIES_1_003_CA_1_validation     1439        3       1         0   \n",
       "3  HOBBIES_1_004_CA_1_validation     1440        3       1         0   \n",
       "4  HOBBIES_1_005_CA_1_validation     1441        3       1         0   \n",
       "\n",
       "   state_id Date  Target        date  wm_yr_wk     ...     month  year  \\\n",
       "0         0  d_1       0  2011-01-29     11101     ...         1  2011   \n",
       "1         0  d_1       0  2011-01-29     11101     ...         1  2011   \n",
       "2         0  d_1       0  2011-01-29     11101     ...         1  2011   \n",
       "3         0  d_1       0  2011-01-29     11101     ...         1  2011   \n",
       "4         0  d_1       0  2011-01-29     11101     ...         1  2011   \n",
       "\n",
       "   event_name_1  event_type_1 event_name_2 event_type_2 snap_CA snap_TX  \\\n",
       "0           NaN           NaN          NaN          NaN       0       0   \n",
       "1           NaN           NaN          NaN          NaN       0       0   \n",
       "2           NaN           NaN          NaN          NaN       0       0   \n",
       "3           NaN           NaN          NaN          NaN       0       0   \n",
       "4           NaN           NaN          NaN          NaN       0       0   \n",
       "\n",
       "   snap_WI  sell_price  \n",
       "0        0         NaN  \n",
       "1        0         NaN  \n",
       "2        0         NaN  \n",
       "3        0         NaN  \n",
       "4        0         NaN  \n",
       "\n",
       "[5 rows x 22 columns]"
      ]
     },
     "execution_count": 12,
     "metadata": {},
     "output_type": "execute_result"
    }
   ],
   "source": [
    "sales_train_validation_encoded.head()"
   ]
  },
  {
   "cell_type": "code",
   "execution_count": null,
   "metadata": {},
   "outputs": [],
   "source": []
  }
 ],
 "metadata": {
  "kernelspec": {
   "display_name": "Python 3",
   "language": "python",
   "name": "python3"
  },
  "language_info": {
   "codemirror_mode": {
    "name": "ipython",
    "version": 3
   },
   "file_extension": ".py",
   "mimetype": "text/x-python",
   "name": "python",
   "nbconvert_exporter": "python",
   "pygments_lexer": "ipython3",
   "version": "3.7.1"
  }
 },
 "nbformat": 4,
 "nbformat_minor": 4
}
